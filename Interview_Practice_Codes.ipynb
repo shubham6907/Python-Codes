{
  "nbformat": 4,
  "nbformat_minor": 0,
  "metadata": {
    "colab": {
      "provenance": [],
      "authorship_tag": "ABX9TyP7yaEjqC6jNivY6k0GN9uV",
      "include_colab_link": true
    },
    "kernelspec": {
      "name": "python3",
      "display_name": "Python 3"
    },
    "language_info": {
      "name": "python"
    }
  },
  "cells": [
    {
      "cell_type": "markdown",
      "metadata": {
        "id": "view-in-github",
        "colab_type": "text"
      },
      "source": [
        "<a href=\"https://colab.research.google.com/github/shubham6907/Python-Codes/blob/main/Interview_Practice_Codes.ipynb\" target=\"_parent\"><img src=\"https://colab.research.google.com/assets/colab-badge.svg\" alt=\"Open In Colab\"/></a>"
      ]
    },
    {
      "cell_type": "markdown",
      "source": [
        "### **1) Find the fourth root of a number.**"
      ],
      "metadata": {
        "id": "6ZeDTzkzjvK1"
      }
    },
    {
      "cell_type": "code",
      "source": [
        "n = 64\n",
        "root = 4\n",
        "\n",
        "root_output = n ** (1/root)\n",
        "print(f'Fourth root of a number {n} is {root_output}')\n"
      ],
      "metadata": {
        "colab": {
          "base_uri": "https://localhost:8080/"
        },
        "id": "9JWRa5r1kGD6",
        "outputId": "28278a11-546b-48fc-b9f1-29c8b875d00a"
      },
      "execution_count": 1,
      "outputs": [
        {
          "output_type": "stream",
          "name": "stdout",
          "text": [
            "Fourth root of a number 64 is 2.8284271247461903\n"
          ]
        }
      ]
    },
    {
      "cell_type": "markdown",
      "source": [
        "### **2) Swap two numbers without using temporary variable.**"
      ],
      "metadata": {
        "id": "FSNVV8HOk3UF"
      }
    },
    {
      "cell_type": "code",
      "source": [
        "a = 10\n",
        "b = 20\n",
        "\n",
        "print(f'Old value of a is {a} and b is {b}')\n",
        "\n",
        "a = a + b\n",
        "b = a - b\n",
        "a = a - b\n",
        "\n",
        "print(f'New value of a is {a} and b is {b}')"
      ],
      "metadata": {
        "colab": {
          "base_uri": "https://localhost:8080/"
        },
        "id": "4BOnO6zklDXi",
        "outputId": "9ed71285-e5e8-49ff-d2db-a7d81a81b3d3"
      },
      "execution_count": 3,
      "outputs": [
        {
          "output_type": "stream",
          "name": "stdout",
          "text": [
            "Old value of a is 10 and b is 20\n",
            "New value of a is 20 and b is 10\n"
          ]
        }
      ]
    },
    {
      "cell_type": "markdown",
      "source": [
        "### **3) Draw pattern:**"
      ],
      "metadata": {
        "id": "_dY3VoTEmECt"
      }
    },
    {
      "cell_type": "code",
      "source": [
        "n = 6\n",
        "for i in range(1,n):\n",
        "  print(\" \"*i + \"* \"*(n-i))"
      ],
      "metadata": {
        "colab": {
          "base_uri": "https://localhost:8080/"
        },
        "id": "Z7eXYzqUmoYJ",
        "outputId": "4ebd7b04-8ef4-4d03-fb56-476bfaded7ca"
      },
      "execution_count": 5,
      "outputs": [
        {
          "output_type": "stream",
          "name": "stdout",
          "text": [
            " * * * * * \n",
            "  * * * * \n",
            "   * * * \n",
            "    * * \n",
            "     * \n"
          ]
        }
      ]
    },
    {
      "cell_type": "markdown",
      "source": [
        "### **4) Draw pattern:**"
      ],
      "metadata": {
        "id": "zFEULNI7nN2i"
      }
    },
    {
      "cell_type": "code",
      "source": [
        "n = 6\n",
        "for i in range(1,n):\n",
        "  print(\" \"*(n-i) + \"* \"*i)"
      ],
      "metadata": {
        "colab": {
          "base_uri": "https://localhost:8080/"
        },
        "id": "DMvhIZ3vnRlC",
        "outputId": "30b1b086-1f62-4c02-8891-8495df4f53f9"
      },
      "execution_count": 6,
      "outputs": [
        {
          "output_type": "stream",
          "name": "stdout",
          "text": [
            "     * \n",
            "    * * \n",
            "   * * * \n",
            "  * * * * \n",
            " * * * * * \n"
          ]
        }
      ]
    },
    {
      "cell_type": "markdown",
      "source": [
        "### **5) Draw pattern:**"
      ],
      "metadata": {
        "id": "g47tixBAoKeI"
      }
    },
    {
      "cell_type": "code",
      "source": [
        "n = 6\n",
        "for i in range(1,n):\n",
        "  print(\"* \"*i)"
      ],
      "metadata": {
        "colab": {
          "base_uri": "https://localhost:8080/"
        },
        "id": "Z7bTvRX_oQ67",
        "outputId": "7c1f887f-9909-45b1-f96b-cc3508edf19e"
      },
      "execution_count": 7,
      "outputs": [
        {
          "output_type": "stream",
          "name": "stdout",
          "text": [
            "* \n",
            "* * \n",
            "* * * \n",
            "* * * * \n",
            "* * * * * \n"
          ]
        }
      ]
    },
    {
      "cell_type": "markdown",
      "source": [
        "### **6) Draw pattern:**"
      ],
      "metadata": {
        "id": "KckFOKU6o4E8"
      }
    },
    {
      "cell_type": "code",
      "source": [
        "n = 6\n",
        "for i in range(1,n):\n",
        "  print(\"* \"*(n-i))"
      ],
      "metadata": {
        "colab": {
          "base_uri": "https://localhost:8080/"
        },
        "id": "oJ8Mxp4qo8CU",
        "outputId": "a8829c96-ca75-4e52-f4ed-89da10a13b77"
      },
      "execution_count": 8,
      "outputs": [
        {
          "output_type": "stream",
          "name": "stdout",
          "text": [
            "* * * * * \n",
            "* * * * \n",
            "* * * \n",
            "* * \n",
            "* \n"
          ]
        }
      ]
    },
    {
      "cell_type": "markdown",
      "source": [
        "### **7) Draw pattern:**"
      ],
      "metadata": {
        "id": "xDcx9KoVpL7Z"
      }
    },
    {
      "cell_type": "code",
      "source": [
        "n = 6\n",
        "for i in range(1,n):\n",
        "  print(\" \"*(n-i) + \"*\"*i)"
      ],
      "metadata": {
        "colab": {
          "base_uri": "https://localhost:8080/"
        },
        "id": "j9gzMGwqpVjF",
        "outputId": "ba1aaa84-a4d5-46e6-96fd-e3028503e4dc"
      },
      "execution_count": 10,
      "outputs": [
        {
          "output_type": "stream",
          "name": "stdout",
          "text": [
            "     *\n",
            "    **\n",
            "   ***\n",
            "  ****\n",
            " *****\n"
          ]
        }
      ]
    },
    {
      "cell_type": "markdown",
      "source": [
        "### **8) Draw pattern:**"
      ],
      "metadata": {
        "id": "PkcjZYfnpt8V"
      }
    },
    {
      "cell_type": "code",
      "source": [
        "n = 6\n",
        "for i in range(1,n):\n",
        "  print(\" \"*i + \"*\"*(n-i))"
      ],
      "metadata": {
        "colab": {
          "base_uri": "https://localhost:8080/"
        },
        "id": "Gpl5kNmsp26q",
        "outputId": "a151b1e4-b3ee-4b18-9496-ac0d4068e0a8"
      },
      "execution_count": 11,
      "outputs": [
        {
          "output_type": "stream",
          "name": "stdout",
          "text": [
            " *****\n",
            "  ****\n",
            "   ***\n",
            "    **\n",
            "     *\n"
          ]
        }
      ]
    },
    {
      "cell_type": "markdown",
      "source": [
        "### **9) Check if string is palindrome.**"
      ],
      "metadata": {
        "id": "mvpkml50qO6v"
      }
    },
    {
      "cell_type": "code",
      "source": [
        "s = 'madam'\n",
        "s2 = 'hello'\n",
        "\n",
        "print(f\"String {s} is palindrome: {s == s[::-1]}\")\n",
        "print(f\"String {s2} is palindrome: {s2 == s2[::-1]}\")\n",
        "\n",
        "s_reversed = \"\".join(reversed(s))\n",
        "s2_reversed = \"\".join(reversed(s2))\n",
        "print(f\"String {s} is palindrome: {s == s_reversed}\")\n",
        "print(f\"String {s2} is palindrome: {s2 == s2_reversed}\")"
      ],
      "metadata": {
        "colab": {
          "base_uri": "https://localhost:8080/"
        },
        "id": "yTNCL81VqZGW",
        "outputId": "2821da9a-fa3f-471c-8473-c665fcae9183"
      },
      "execution_count": 16,
      "outputs": [
        {
          "output_type": "stream",
          "name": "stdout",
          "text": [
            "String madam is palindrome: True\n",
            "String hello is palindrome: False\n",
            "String madam is palindrome: True\n",
            "String hello is palindrome: False\n"
          ]
        }
      ]
    },
    {
      "cell_type": "markdown",
      "source": [
        "### **Write python function which takes variable number of arguments.**"
      ],
      "metadata": {
        "id": "A9FHSNaYsu-Y"
      }
    },
    {
      "cell_type": "code",
      "source": [
        "def var_args(*args):\n",
        "  print(type(args))\n",
        "  string = \" | \".join(args)\n",
        "  return string\n",
        "\n",
        "print(var_args('a','b'))\n",
        "print(var_args('a','b','c','d'))"
      ],
      "metadata": {
        "colab": {
          "base_uri": "https://localhost:8080/"
        },
        "id": "ayNkGo47tM-w",
        "outputId": "b7cb32cf-280c-4e77-b142-7a21c21dfaf2"
      },
      "execution_count": 24,
      "outputs": [
        {
          "output_type": "stream",
          "name": "stdout",
          "text": [
            "<class 'tuple'>\n",
            "a | b\n",
            "<class 'tuple'>\n",
            "a | b | c | d\n"
          ]
        }
      ]
    },
    {
      "cell_type": "markdown",
      "source": [
        "### **Write a program which takes a sequence of numbers as input and check if all numbers are unique.**"
      ],
      "metadata": {
        "id": "nPKLwvRSvOrU"
      }
    },
    {
      "cell_type": "code",
      "source": [
        "def check_if_unique(data_list):\n",
        "  return data_list == list(set(data_list))\n",
        "\n",
        "print(check_if_unique([1,2,3,4]))\n",
        "print(check_if_unique([1,2,2,4,3,4]))"
      ],
      "metadata": {
        "colab": {
          "base_uri": "https://localhost:8080/"
        },
        "id": "6anNYb7Avd5W",
        "outputId": "b3396bf4-6966-49d0-f07c-265b06a4dbd5"
      },
      "execution_count": 25,
      "outputs": [
        {
          "output_type": "stream",
          "name": "stdout",
          "text": [
            "True\n",
            "False\n"
          ]
        }
      ]
    },
    {
      "cell_type": "markdown",
      "source": [
        "### **Write a program to match pattern of string using regex module (re).**\n"
      ],
      "metadata": {
        "id": "jWyhnhjRwD89"
      }
    },
    {
      "cell_type": "code",
      "source": [
        "import re\n",
        "\n",
        "pattern = r'^[a-zA-Z0-9_]+$'\n",
        "pattern = re.compile(pattern)\n",
        "\n",
        "string = 'shubham'\n",
        "match_output = pattern.match(string)\n",
        "\n",
        "if match_output:\n",
        "  print('string matches the pattern')\n",
        "else:\n",
        "  print('no match')"
      ],
      "metadata": {
        "colab": {
          "base_uri": "https://localhost:8080/"
        },
        "id": "u-dTV9iLwSGt",
        "outputId": "6fb1e669-0030-440f-ce02-c7d1e75fcd44"
      },
      "execution_count": 34,
      "outputs": [
        {
          "output_type": "stream",
          "name": "stdout",
          "text": [
            "string matches the pattern\n"
          ]
        }
      ]
    }
  ]
}