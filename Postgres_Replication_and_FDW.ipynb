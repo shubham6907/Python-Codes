{
  "nbformat": 4,
  "nbformat_minor": 0,
  "metadata": {
    "colab": {
      "provenance": [],
      "authorship_tag": "ABX9TyPwkfxggqg8PK9ktdWVxgJ8",
      "include_colab_link": true
    },
    "kernelspec": {
      "name": "python3",
      "display_name": "Python 3"
    },
    "language_info": {
      "name": "python"
    }
  },
  "cells": [
    {
      "cell_type": "markdown",
      "metadata": {
        "id": "view-in-github",
        "colab_type": "text"
      },
      "source": [
        "<a href=\"https://colab.research.google.com/github/shubham6907/Python-Codes/blob/main/Postgres_Replication_and_FDW.ipynb\" target=\"_parent\"><img src=\"https://colab.research.google.com/assets/colab-badge.svg\" alt=\"Open In Colab\"/></a>"
      ]
    },
    {
      "cell_type": "markdown",
      "source": [
        "## **Postgres Replication**"
      ],
      "metadata": {
        "id": "DOty1pvsB_nz"
      }
    },
    {
      "cell_type": "code",
      "source": [
        "# Publication\n",
        "CREATE PUBLICATION sample_publication\n",
        "    FOR TABLE public.sample\n",
        "    WITH (publish = 'insert, update, delete, truncate', publish_via_partition_root = false);\n",
        "\n",
        "create table table1(x int primary key, y int);\n",
        "\n",
        "insert into table1 values(10, 11);\n",
        "\n",
        "create publication my_publication for table table1;\n",
        "\n",
        "insert into table1 values(30, 31);\n",
        "\n",
        "select * from table1;\n",
        "\n",
        "\n",
        "# Subscription\n",
        "CREATE SUBSCRIPTION mysub\n",
        "       CONNECTION <conn stuff>\n",
        "       PUBLICATION foo\n",
        "       WITH (slot_name=my_slot, create_slot=false);\n",
        "\n",
        "\n",
        "create publication my_publication for table table1;\n",
        "CREATE SUBSCRIPTION my_subscription CONNECTION 'host=localhost port=5432 dbname=postgres' PUBLICATION my_publication WITH (connect =true, slot_name=my_sub_slot, create_slot=true, enabled=true);\n",
        "\n",
        "select * from table1;\n",
        "\n",
        "delete from table1;\n",
        "\n",
        "\n",
        "# Slot creation\n",
        "select pg_create_logical_replication_slot('my_sub_slot','pgoutput');\n",
        "select pg_logical_slot_get_binary_changes('my_sub_slot', NULL, NULL, 'publication_names', 'my_publication', 'proto_version', '1');\n",
        "CREATE SUBSCRIPTION my_subscription CONNECTION 'host=localhost port=5432 dbname=postgres' PUBLICATION my_publication WITH (connect =true, slot_name=my_sub_slot, create_slot=false, enabled=true);"
      ],
      "metadata": {
        "id": "bMz6mkaZCFLi"
      },
      "execution_count": null,
      "outputs": []
    },
    {
      "cell_type": "markdown",
      "source": [
        "## **Postgres Foreign Data Wrappers (FDW)**"
      ],
      "metadata": {
        "id": "9L3yAn3WChg8"
      }
    },
    {
      "cell_type": "code",
      "source": [
        "CREATE EXTENSION postgres_fdw;\n",
        "\n",
        "DROP SERVER IF EXISTS abc_server CASCADE;\n",
        "CREATE SERVER abc_server\n",
        "    FOREIGN DATA WRAPPER postgres_fdw\n",
        "    OPTIONS (host '$PG_EDGE_HOST$', dbname '$MAR_DBname$', port '$PG_EDGE_PORT$');\n",
        "\n",
        "DROP USER MAPPING IF EXISTS FOR current_user SERVER abc_server;\n",
        "\n",
        "CREATE USER MAPPING FOR current_user\n",
        "SERVER abc_server\n",
        "OPTIONS (user '$MAR_DBuser$', password '$MAR_DBpwd$');\n",
        "\n",
        "IMPORT FOREIGN SCHEMA public LIMIT TO (table1, table2)\n",
        "   FROM SERVER abc_server INTO public;\n",
        "\n",
        "DROP TABLE IF EXISTS view1_table CASCADE;\n",
        "\n",
        "CREATE OR REPLACE VIEW view1_table AS\n",
        "SELECT\n",
        "*\n",
        "from table1 JOIN table2 ON table1.column = table2.column;\n",
        "\n",
        "\n",
        "# Concatenation\n",
        "table.column1::text||' '||table.column2||' '||table.column3::text as column4\n",
        "\n",
        "# Coalesce\n",
        "COALESCE ((SELECT temp.temp_desc FROM temp_data temp WHERE\n",
        "        temp.temp_recipe like '%' || TRIM(table1.srecipegroup) || '%'\n",
        "        AND temp.temp_min_quantity <= table1.fquantity and table1.fquantity < temp.temp_max_quantity\n",
        "        AND temp.temp_application like '%application%' LIMIT 1), 'unknown') column5\n",
        "\n",
        "# Trim\n",
        "trim(split_part(temp_reason_for_exc, '(', 1)) as temp_reason\n",
        "\n",
        "# Round\n",
        "round((extract(epoch from exception_end_time-exception_start_time)/3600)::numeric, 2) as temp_exception_duration"
      ],
      "metadata": {
        "id": "JFIKexdBClFb"
      },
      "execution_count": null,
      "outputs": []
    }
  ]
}