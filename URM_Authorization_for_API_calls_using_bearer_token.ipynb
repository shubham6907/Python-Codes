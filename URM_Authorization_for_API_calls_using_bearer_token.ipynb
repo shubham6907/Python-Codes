{
  "nbformat": 4,
  "nbformat_minor": 0,
  "metadata": {
    "colab": {
      "provenance": [],
      "authorship_tag": "ABX9TyN66ckJP9p+Z4XF9stCjpLu",
      "include_colab_link": true
    },
    "kernelspec": {
      "name": "python3",
      "display_name": "Python 3"
    },
    "language_info": {
      "name": "python"
    }
  },
  "cells": [
    {
      "cell_type": "markdown",
      "metadata": {
        "id": "view-in-github",
        "colab_type": "text"
      },
      "source": [
        "<a href=\"https://colab.research.google.com/github/shubham6907/Python-Codes/blob/main/URM_Authorization_for_API_calls_using_bearer_token.ipynb\" target=\"_parent\"><img src=\"https://colab.research.google.com/assets/colab-badge.svg\" alt=\"Open In Colab\"/></a>"
      ]
    },
    {
      "cell_type": "markdown",
      "source": [
        "# **URM Authorization for API calls using bearer token**\n",
        "\n",
        "### **Contents of API function**"
      ],
      "metadata": {
        "id": "SWTISFLo7Fbg"
      }
    },
    {
      "cell_type": "code",
      "source": [
        "@app.route(\"/\")\n",
        "def api_call():\n",
        "        access_token = request.headers.get(constants.HEADER_AUTHORIZATION)\n",
        "        content_type = request.headers.get(constants.CONTENT_TYPE_HEADER)\n",
        "\n",
        "        token_validation_status, token_status = urm_vt.validate_token(constants.REQUEST_METHOD,constants.VALIDATE_TOKEN_URL,access_token, content_type)\n",
        "        if token_status == 403:\n",
        "            return jsonify({\"error-code\": 403, \"error-desc\": \"header missing\", \"error-msg\": token_validation_status}), 403\n",
        "        elif token_status != True:\n",
        "            logging.error(token_validation_status)\n",
        "            return jsonify({\"error-code\":401, \"error-desc\": \"unauthorized\", \"error-msg\": token_validation_status}), 401"
      ],
      "metadata": {
        "id": "VxEiGMy-7D4E"
      },
      "execution_count": null,
      "outputs": []
    },
    {
      "cell_type": "markdown",
      "source": [
        "### **Validate token annotation function**"
      ],
      "metadata": {
        "id": "OIL52ZLI83DZ"
      }
    },
    {
      "cell_type": "code",
      "source": [
        "def validate_token(request_method,validate_token_url):\n",
        "    def decorator(function):\n",
        "        @wraps(function)\n",
        "        def wrapper(*args, **kwargs):\n",
        "            try:\n",
        "                access_token = request.headers.get(constants.HEADER_AUTHORIZATION)\n",
        "                content_type = request.headers.get(constants.CONTENT_TYPE_HEADER)\n",
        "                if access_token is None or access_token == \"\":\n",
        "                    logging.error(constants.HEADER_AUTHORIZATION_MISSING)\n",
        "                    return jsonify({\"error-code\": 403, \"error-desc\": \"header missing\", \"error-msg\": constants.HEADER_AUTHORIZATION_MISSING}), 403\n",
        "                elif constants.BEARER_STRING not in access_token:\n",
        "                    return jsonify({\"error-code\": 401, \"error-desc\": \"unauthorized\", \"error-msg\": constants.BEARER_STRING_MISSING}), 401\n",
        "                if content_type is None or content_type == \"\":\n",
        "                    logging.error(constants.HEADER_CONTENT_TYPE_MISSING)\n",
        "                    return jsonify({\"error-code\": 403, \"error-desc\": \"header missing\", \"error-msg\": constants.HEADER_CONTENT_TYPE_MISSING}), 403\n",
        "\n",
        "                response=http.request(request_method,validate_token_url,headers={constants.CONTENT_TYPE_HEADER:content_type, constants.HEADER_AUTHORIZATION:access_token})\n",
        "                response_data = json.loads(response.data.decode('utf-8'))\n",
        "                logging.info(response_data)\n",
        "                logging.info(response.status)\n",
        "                token_status = response_data['active']\n",
        "                logging.info(token_status)\n",
        "                # if token_status == True:\n",
        "                #     return (constants.TOKEN_VALID_STATUS, token_status)\n",
        "                if token_status == False:\n",
        "                    return jsonify({\"error-code\": 401, \"error-desc\": \"unauthorized\", \"error-msg\": constants.TOKEN_INVALID_STATUS}), 401\n",
        "                elif token_status != True:\n",
        "                    return jsonify({\"error-code\": 401, \"error-desc\": \"unauthorized\", \"error-msg\": constants.TOKEN_STATUS_VALUE_ERROR}), 401\n",
        "            except Exception as err:\n",
        "                return jsonify(str(err)), 405\n",
        "            return function(*args, **kwargs)\n",
        "        return wrapper\n",
        "    return decorator"
      ],
      "metadata": {
        "id": "jkx5oAyZ9CR0"
      },
      "execution_count": null,
      "outputs": []
    },
    {
      "cell_type": "markdown",
      "source": [
        "### **Constants declaration**"
      ],
      "metadata": {
        "id": "s4ntSlC3-buy"
      }
    },
    {
      "cell_type": "code",
      "source": [
        "HEADER_AUTHORIZATION = \"Authorization\"\n",
        "VALIDATE_TOKEN_URL = 'https://abc.com/dev/validatetoken'\n",
        "REQUEST_METHOD = 'POST'\n",
        "CONTENT_TYPE_HEADER = 'Content-Type'\n",
        "CONTENT_TYPE_VALUE = 'application/json'\n",
        "TOKEN_INVALID_STATUS = \"Access token is invalid. Please try again with valid token.\"\n",
        "TOKEN_VALID_STATUS = \"Access token validated successfully.\"\n",
        "TOKEN_STATUS_VALUE_ERROR = \"Access token status value is invalid.\"\n",
        "HEADER_AUTHORIZATION_MISSING = \"Authorization header is missing in the request.\"\n",
        "HEADER_CONTENT_TYPE_MISSING = \"Content type header is missing in the request.\"\n",
        "BEARER_STRING = \"Bearer \"\n",
        "BEARER_STRING_MISSING = \"Bearer keyword is missing in the access token\""
      ],
      "metadata": {
        "id": "4amQhXTt-cOq"
      },
      "execution_count": null,
      "outputs": []
    }
  ]
}